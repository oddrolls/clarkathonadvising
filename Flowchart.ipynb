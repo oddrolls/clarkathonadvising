{
 "cells": [
  {
   "cell_type": "code",
   "execution_count": 1,
   "id": "195ebe64",
   "metadata": {},
   "outputs": [
    {
     "name": "stdout",
     "output_type": "stream",
     "text": [
      "Collecting pyflowchart\n",
      "  Downloading pyflowchart-0.3.1-py3-none-any.whl (25 kB)\n",
      "Collecting astunparse\n",
      "  Downloading astunparse-1.6.3-py2.py3-none-any.whl (12 kB)\n",
      "Requirement already satisfied: chardet in c:\\users\\18607\\anaconda3\\lib\\site-packages (from pyflowchart) (4.0.0)\n",
      "Note: you may need to restart the kernel to use updated packages.Requirement already satisfied: six<2.0,>=1.6.1 in c:\\users\\18607\\anaconda3\\lib\\site-packages (from astunparse->pyflowchart) (1.16.0)\n",
      "Requirement already satisfied: wheel<1.0,>=0.23.0 in c:\\users\\18607\\anaconda3\\lib\\site-packages (from astunparse->pyflowchart) (0.37.1)\n",
      "Installing collected packages: astunparse, pyflowchart\n",
      "Successfully installed astunparse-1.6.3 pyflowchart-0.3.1\n",
      "\n"
     ]
    }
   ],
   "source": [
    "pip install pyflowchart"
   ]
  },
  {
   "cell_type": "code",
   "execution_count": 3,
   "id": "e5ea1e5d",
   "metadata": {},
   "outputs": [
    {
     "name": "stdout",
     "output_type": "stream",
     "text": [
      "Collecting graphviz\n",
      "  Downloading graphviz-0.20.1-py3-none-any.whl (47 kB)\n",
      "Installing collected packages: graphviz\n",
      "Successfully installed graphviz-0.20.1\n",
      "Note: you may need to restart the kernel to use updated packages.\n"
     ]
    }
   ],
   "source": [
    "pip install graphviz"
   ]
  },
  {
   "cell_type": "code",
   "execution_count": 6,
   "id": "e898c0c0",
   "metadata": {},
   "outputs": [
    {
     "data": {
      "text/plain": [
       "'college_class_selection_flowchart.pdf'"
      ]
     },
     "execution_count": 6,
     "metadata": {},
     "output_type": "execute_result"
    }
   ],
   "source": [
    "import graphviz\n",
    "\n",
    "dot = graphviz.Digraph(comment='College Class Selection Flowchart')\n",
    "\n",
    "dot.node('S', 'Start')\n",
    "dot.node('F', 'Select a General Education course')\n",
    "\n",
    "dot.node('M', 'Are you pursuing a specific major?')\n",
    "dot.node('M_YES', 'Choose major-specific classes')\n",
    "dot.node('M_NO', 'Explore electives or minor options')\n",
    "\n",
    "dot.node('E', 'Explore electives or minor options?')\n",
    "dot.node('E_YES', 'Are there any prerequisites?')\n",
    "dot.node('E_NO', 'Select elective/minor courses')\n",
    "\n",
    "dot.node('P', 'Are there any prerequisites?')\n",
    "dot.node('P_YES', 'Take prerequisites first')\n",
    "dot.node('P_NO', 'Select elective/minor courses')\n",
    "\n",
    "dot.node('End', 'End')\n",
    "\n",
    "# dot.edges(['SF', 'SM', 'SE', 'End', 'MM_YES', 'MM_NO', 'EE_YES', 'EE_NO', 'PP_YES', 'PP_NO'])\n",
    "dot.edges(['SF', 'SM'])\n",
    "\n",
    "dot.render('college_class_selection_flowchart', view=True)\n"
   ]
  },
  {
   "cell_type": "code",
   "execution_count": 7,
   "id": "361b4751",
   "metadata": {},
   "outputs": [
    {
     "data": {
      "text/plain": [
       "'example_graph.pdf'"
      ]
     },
     "execution_count": 7,
     "metadata": {},
     "output_type": "execute_result"
    }
   ],
   "source": [
    "import graphviz\n",
    "\n",
    "# Create a new Graphviz object\n",
    "dot = graphviz.Digraph(comment='Example Flowchart')\n",
    "\n",
    "# Add nodes to the graph\n",
    "dot.node('A', 'Node A')\n",
    "dot.node('B', 'Node B')\n",
    "dot.node('C', 'Node C')\n",
    "dot.node('D', 'Node D')\n",
    "\n",
    "# Add edges between nodes\n",
    "dot.edge('A', 'B')\n",
    "dot.edge('B', 'C')\n",
    "dot.edge('C', 'D')\n",
    "dot.edge('D', 'A')\n",
    "\n",
    "# Save the graph as a .png file and view it\n",
    "dot.render('example_graph', view=True)"
   ]
  },
  {
   "cell_type": "code",
   "execution_count": 14,
   "id": "a9c92bbe",
   "metadata": {},
   "outputs": [
    {
     "data": {
      "text/plain": [
       "'example_graph.pdf'"
      ]
     },
     "execution_count": 14,
     "metadata": {},
     "output_type": "execute_result"
    }
   ],
   "source": [
    "import graphviz\n",
    "\n",
    "cs = graphviz.Digraph(comment='CS Major Flowchart')\n",
    "\n",
    "# Add nodes to the graph\n",
    "cs.node('MATH 120', 'MATH 120')\n",
    "cs.node('MATH 121', 'MATH 121')\n",
    "\n",
    "cs.node('CSCI 120', 'CSCI 120')\n",
    "cs.node('CSCI 121', 'CSCI 121')\n",
    "cs.node('CSCI 122', 'CSCI 122')\n",
    "\n",
    "cs.node('CSCI 140', 'CSCI 140')\n",
    "cs.node('CSCI 160', 'CSCI 160')\n",
    "cs.node('CSCI 170', 'CSCI 170')\n",
    "cs.node('CSCI 180', 'CSCI 180')\n",
    "\n",
    "cs.node('CSCI 215', 'CSCI 215')\n",
    "cs.node('CSCI 262', 'CSCI 262')\n",
    "cs.node('CSCI 280', 'CSCI 280')\n",
    "\n",
    "cs.node('CSCI 250', 'CSCI 250')\n",
    "cs.node('CSCI 201', 'CSCI 201')\n",
    "\n",
    "\n",
    "# dot.edge('B', 'C', color='blue')\n",
    "# dot.edge('B', 'C', color='pink')\n",
    "\n",
    "cs.edge('MATH 120', 'MATH 121')\n",
    "\n",
    "cs.edge('CSCI 120', 'CSCI 121')\n",
    "cs.edge('CSCI 120', 'CSCI 122')\n",
    "\n",
    "cs.edge('MATH 120', 'CSCI 122')\n",
    "\n",
    "cs.edge('CSCI 121', 'CSCI 140')\n",
    "\n",
    "cs.edge('CSCI 121', 'CSCI 160', color='pink')\n",
    "cs.edge('CSCI 122', 'CSCI 160', color='pink')\n",
    "\n",
    "cs.edge('CSCI 121', 'CSCI 170', color='blue')\n",
    "cs.edge('CSCI 122', 'CSCI 170', color='blue')\n",
    "\n",
    "cs.edge('CSCI 121', 'CSCI 180')\n",
    "\n",
    "cs.edge('CSCI 140', 'CSCI 215', color='darkolivegreen', style='dotted')\n",
    "cs.edge('CSCI 170', 'CSCI 215', color='darkolivegreen', style='dotted')\n",
    "\n",
    "cs.edge('CSCI 160', 'CSCI 262')\n",
    "\n",
    "cs.edge('CSCI 160', 'CSCI 280')\n",
    "cs.edge('CSCI 140', 'CSCI 280', color='gold', style='dotted')\n",
    "cs.edge('CSCI 170', 'CSCI 280', color='gold', style='dotted')\n",
    "\n",
    "cs.edge('CSCI 160', 'CSCI 250', color='crimson', style='dotted')\n",
    "cs.edge('CSCI 170', 'CSCI 250', color='crimson', style='dotted')\n",
    "\n",
    "cs.edge('CSCI 160', 'CSCI 201')\n",
    "\n",
    "cs.render('example_graph', view=True)"
   ]
  },
  {
   "cell_type": "code",
   "execution_count": 6,
   "id": "1efd5f77",
   "metadata": {},
   "outputs": [],
   "source": [
    "# for class in data frame\n",
    "### add a node(COURSE ABBREV, COURSE ABBREV)\n",
    "## add edges between every class an its pre-reqs\n",
    "## can begin with my personal class experience at clark"
   ]
  }
 ],
 "metadata": {
  "kernelspec": {
   "display_name": "Python 3 (ipykernel)",
   "language": "python",
   "name": "python3"
  },
  "language_info": {
   "codemirror_mode": {
    "name": "ipython",
    "version": 3
   },
   "file_extension": ".py",
   "mimetype": "text/x-python",
   "name": "python",
   "nbconvert_exporter": "python",
   "pygments_lexer": "ipython3",
   "version": "3.9.12"
  }
 },
 "nbformat": 4,
 "nbformat_minor": 5
}
